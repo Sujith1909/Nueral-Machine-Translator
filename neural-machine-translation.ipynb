{
 "cells": [
  {
   "cell_type": "markdown",
   "metadata": {},
   "source": [
    "# Neural machine translation"
   ]
  },
  {
   "cell_type": "markdown",
   "metadata": {},
   "source": [
    "Here we will translate **French** into **Engish** language. Please read this [article](https://www.theaidream.com/post/how-ai-is-changing-personal-data-tracking) to understand step by step approach."
   ]
  },
  {
   "cell_type": "markdown",
   "metadata": {},
   "source": [
    "Dataset: http://www.manythings.org/anki/"
   ]
  },
  {
   "cell_type": "code",
   "execution_count": 1,
   "metadata": {
    "id": "vc5ngHh4PPz1"
   },
   "outputs": [],
   "source": [
    "import os, sys\n",
    "from tensorflow.keras.models import Model\n",
    "from tensorflow.keras.layers import Input, LSTM, GRU, Dense, Embedding\n",
    "from tensorflow.keras.preprocessing.text import Tokenizer\n",
    "from tensorflow.keras.preprocessing.sequence import pad_sequences\n",
    "from tensorflow.keras.utils import to_categorical\n",
    "import numpy as np\n",
    "import pickle\n",
    "import matplotlib.pyplot as plt\n",
    "from tensorflow.keras import models"
   ]
  },
  {
   "cell_type": "code",
   "execution_count": 2,
   "metadata": {
    "id": "_SRkog90Prnf"
   },
   "outputs": [],
   "source": [
    "#Execute this script to set values for different parameters:\n",
    "BATCH_SIZE = 64\n",
    "EPOCHS = 20\n",
    "LSTM_NODES =256\n",
    "NUM_SENTENCES = 20000\n",
    "MAX_SENTENCE_LENGTH = 50\n",
    "MAX_NUM_WORDS = 20000\n",
    "EMBEDDING_SIZE = 200"
   ]
  },
  {
   "cell_type": "markdown",
   "metadata": {
    "id": "e281mVDVQOQG"
   },
   "source": [
    "The language translation model that we are going to develop will translate English sentences into their French language counterparts. To develop such a model, we need a dataset that contains English sentences and their French translations."
   ]
  },
  {
   "cell_type": "markdown",
   "metadata": {
    "id": "YlZSuKwHQdF5"
   },
   "source": [
    "# Data Preprocessing"
   ]
  },
  {
   "cell_type": "markdown",
   "metadata": {
    "id": "umQGGqLOQ12u"
   },
   "source": [
    "We need to generate two copies of the translated sentence: one with the start-of-sentence token and the other with the end-of-sentence token.\n",
    "\n"
   ]
  },
  {
   "cell_type": "code",
   "execution_count": 3,
   "metadata": {
    "id": "iah7wvJKQQy5",
    "outputId": "15d10ca7-af21-48da-851a-5e654b85a96e"
   },
   "outputs": [
    {
     "name": "stdout",
     "output_type": "stream",
     "text": [
      "Number of sample input: 20000\n",
      "Number of sample output: 20000\n",
      "Number of sample output input: 20000\n"
     ]
    }
   ],
   "source": [
    "input_sentences = []\n",
    "output_sentences = []\n",
    "output_sentences_inputs = []\n",
    "\n",
    "count = 0\n",
    "for line in open('C:\\\\Users\\\\blank\\\\data science\\\\Project - Neural Machine Translation/fra.txt', encoding=\"utf-8\"):\n",
    "    count += 1\n",
    "    if count > NUM_SENTENCES:\n",
    "        break\n",
    "    if '\\t' not in line:\n",
    "        continue\n",
    "    input_sentence = line.rstrip().split('\\t')[0]\n",
    "    output = line.rstrip().split('\\t')[1]\n",
    "\n",
    "    output_sentence = output + ' <eos>'\n",
    "    output_sentence_input = '<sos> ' + output\n",
    "\n",
    "    input_sentences.append(input_sentence)\n",
    "    output_sentences.append(output_sentence)\n",
    "    output_sentences_inputs.append(output_sentence_input)\n",
    "\n",
    "print(\"Number of sample input:\", len(input_sentences))\n",
    "print(\"Number of sample output:\", len(output_sentences))\n",
    "print(\"Number of sample output input:\", len(output_sentences_inputs))"
   ]
  },
  {
   "cell_type": "markdown",
   "metadata": {
    "id": "_nAgWjj4VF1g"
   },
   "source": [
    "Now randomly print a sentence to analyse your dataset."
   ]
  },
  {
   "cell_type": "code",
   "execution_count": 4,
   "metadata": {
    "id": "X0S4pCxTRCMr",
    "outputId": "787321ef-59a3-422b-b359-8a7337b87eaf"
   },
   "outputs": [
    {
     "name": "stdout",
     "output_type": "stream",
     "text": [
      "English sentence:  I'm shy.\n",
      "French translation:  Je suis timide. <eos>\n"
     ]
    }
   ],
   "source": [
    "print(\"English sentence: \",input_sentences[180])\n",
    "print(\"French translation: \",output_sentences[180])"
   ]
  },
  {
   "cell_type": "markdown",
   "metadata": {
    "id": "2rSbfS2-WDes"
   },
   "source": [
    "You can see the original sentence, i.e. **Join us**; its corresponding translation in the output, i.e **Joignez-vous à nous.** <eos>. Notice, here we have <eos> token at the end of the sentence. Similarly, for the input to the decoder, we have <sos> **Joignez-vous à nous.**"
   ]
  },
  {
   "cell_type": "markdown",
   "metadata": {
    "id": "-hGrGE_LWWzQ"
   },
   "source": [
    "# Tokenization and Padding\n"
   ]
  },
  {
   "cell_type": "markdown",
   "metadata": {
    "id": "IYXduD_iW62b"
   },
   "source": [
    "The next step is tokenizing the original and translated sentences and applying padding to the sentences that are longer or shorter than a certain length, which in case of inputs will be the length of the longest input sentence. And for the output this will be the length of the longest sentence in the output."
   ]
  },
  {
   "cell_type": "code",
   "execution_count": 5,
   "metadata": {
    "id": "ibQSA3kaWWbn",
    "outputId": "25eebbc6-6637-44c9-f11e-5b8bd4376a35"
   },
   "outputs": [
    {
     "data": {
      "image/png": "[encoded data removed]",
      "text/plain": [
       "<Figure size 432x288 with 2 Axes>"
      ]
     },
     "metadata": {
      "needs_background": "light"
     },
     "output_type": "display_data"
    }
   ],
   "source": [
    "# let’s visualise the length of the sentences.\n",
    "import pandas as pd\n",
    "\n",
    "eng_len = []\n",
    "fren_len = []\n",
    "\n",
    "# populate the lists with sentence lengths\n",
    "for i in input_sentences:\n",
    "      eng_len.append(len(i.split()))  \n",
    "\n",
    "for i in output_sentences:\n",
    "      fren_len.append(len(i.split()))\n",
    "\n",
    "length_df = pd.DataFrame({'english':eng_len, 'french':fren_len})\n",
    "\n",
    "length_df.hist(bins = 20)\n",
    "plt.show()"
   ]
  },
  {
   "cell_type": "markdown",
   "metadata": {
    "id": "uJnEP8llZ_Ao"
   },
   "source": [
    "The histogram above shows  maximum length of the French sentences is 12 and that of the English sentence is 6."
   ]
  },
  {
   "cell_type": "markdown",
   "metadata": {
    "id": "eZSk_2kXY90w"
   },
   "source": [
    "For tokenization, the Tokenizer class from the keras.preprocessing.text library can be used. The tokenizer class performs two tasks:\n",
    "\n",
    "1. It divides a sentence into the corresponding list of word\n",
    "\n",
    "2. Then it converts the words to integers\n",
    "\n",
    "Also the **word_index** attribute of the Tokenizer class returns a word-to-index dictionary where words are the keys and the corresponding integers are the values. "
   ]
  },
  {
   "cell_type": "code",
   "execution_count": 6,
   "metadata": {
    "id": "YQDnWoyPU6-p",
    "outputId": "54c37c87-898b-41a8-bf83-e0019af994f9"
   },
   "outputs": [
    {
     "name": "stdout",
     "output_type": "stream",
     "text": [
      "Total unique words in the input: 3518\n",
      "Length of longest sentence in input: 6\n"
     ]
    }
   ],
   "source": [
    "#tokenize the input sentences(input language) \n",
    "input_tokenizer = Tokenizer(num_words=MAX_NUM_WORDS)\n",
    "input_tokenizer.fit_on_texts(input_sentences)\n",
    "input_integer_seq = input_tokenizer.texts_to_sequences(input_sentences)\n",
    "\n",
    "\n",
    "word2idx_inputs = input_tokenizer.word_index\n",
    "print('Total unique words in the input: %s' % len(word2idx_inputs))\n",
    "\n",
    "max_input_len = max(len(sen) for sen in input_integer_seq)\n",
    "print(\"Length of longest sentence in input: %g\" % max_input_len)\n",
    "\n",
    "#with open('input_tokenizer_NMT.pickle', 'wb') as handle:\n",
    "#    pickle.dump(input_tokenizer, handle, protocol=4)"
   ]
  },
  {
   "cell_type": "code",
   "execution_count": 7,
   "metadata": {
    "id": "jUQ47uZhZKQ1",
    "outputId": "3f991e9b-f901-49d1-bd66-63bf2f40ebf6"
   },
   "outputs": [
    {
     "name": "stdout",
     "output_type": "stream",
     "text": [
      "Total unique words in the output: 9546\n",
      "Length of longest sentence in the output: 12\n"
     ]
    }
   ],
   "source": [
    "#tokenize the output sentences(Output language)\n",
    "output_tokenizer = Tokenizer(num_words=MAX_NUM_WORDS, filters='')\n",
    "output_tokenizer.fit_on_texts(output_sentences + output_sentences_inputs)\n",
    "output_integer_seq = output_tokenizer.texts_to_sequences(output_sentences)\n",
    "output_input_integer_seq = output_tokenizer.texts_to_sequences(output_sentences_inputs)\n",
    "\n",
    "word2idx_outputs = output_tokenizer.word_index\n",
    "print('Total unique words in the output: %s' % len(word2idx_outputs))\n",
    "\n",
    "num_words_output = len(word2idx_outputs) + 1\n",
    "max_out_len = max(len(sen) for sen in output_integer_seq)\n",
    "print(\"Length of longest sentence in the output: %g\" % max_out_len)\n",
    "\n",
    "#with open('output_tokenizer_NMT.pickle', 'wb') as handle:\n",
    "#    pickle.dump(output_tokenizer, handle, protocol=4)"
   ]
  },
  {
   "cell_type": "markdown",
   "metadata": {
    "id": "XPCKJUsWZ0x6"
   },
   "source": [
    "Now the lengths of longest sentence can also be varified from the histogram above. And it can be concluded that English sentences are normally shorter and contain a smaller number of words on average, compared to the translated French sentences."
   ]
  },
  {
   "cell_type": "markdown",
   "metadata": {
    "id": "YZlCVIG5af9r"
   },
   "source": [
    "Next, we need to pad the input. The reason behind padding the input and the output is that text sentences can be of varying length, however LSTM expects input instances with the same length. Therefore, we need to convert our sentences into fixed-length vectors. One way to do this is via padding."
   ]
  },
  {
   "cell_type": "code",
   "execution_count": 8,
   "metadata": {
    "id": "hj-vUQjOZx10",
    "outputId": "0eefd318-e328-461e-f1aa-ae07b23a68fc"
   },
   "outputs": [
    {
     "name": "stdout",
     "output_type": "stream",
     "text": [
      "encoder_input_sequences.shape: (20000, 6)\n",
      "encoder_input_sequences[180]: [  0   0   0   0   6 301]\n"
     ]
    }
   ],
   "source": [
    "encoder_input_sequences = pad_sequences(input_integer_seq, maxlen=max_input_len)\n",
    "print(\"encoder_input_sequences.shape:\", encoder_input_sequences.shape)\n",
    "print(\"encoder_input_sequences[180]:\", encoder_input_sequences[180])"
   ]
  },
  {
   "cell_type": "markdown",
   "metadata": {
    "id": "juymGRF5bDUe"
   },
   "source": [
    "Since there are 20,000 sentences in the input and each input sentence is of length 6, the shape of the input is now (20000, 6)."
   ]
  },
  {
   "cell_type": "markdown",
   "metadata": {
    "id": "e4wlW59CbZt8"
   },
   "source": [
    "You may recall that the original sentence at index 180 is **join us**. The tokenizer divided the sentence into two words ***join*** and ***us***, converted them to integers, and then applied pre-padding by adding four zeros at the start of the corresponding integer sequence for the sentence at index 180 of the input list.\n",
    "\n",
    "To verify that the integer values for ***join*** and ***us*** are 464 and 59 respectively, you can pass the words to the word2index_inputs dictionary, as shown below:"
   ]
  },
  {
   "cell_type": "code",
   "execution_count": 9,
   "metadata": {
    "id": "FNTu1gbfa2jf",
    "outputId": "b98f0109-131a-4327-c326-f3ab658c292f"
   },
   "outputs": [
    {
     "name": "stdout",
     "output_type": "stream",
     "text": [
      "463\n",
      "57\n"
     ]
    }
   ],
   "source": [
    "print(word2idx_inputs[\"join\"])\n",
    "print(word2idx_inputs[\"us\"])"
   ]
  },
  {
   "cell_type": "markdown",
   "metadata": {
    "id": "c1K1SJQucTbU"
   },
   "source": [
    "In the same way, the decoder outputs and the decoder inputs are padded.\n",
    "\n"
   ]
  },
  {
   "cell_type": "code",
   "execution_count": 10,
   "metadata": {
    "id": "f8eOgYfUb0EO",
    "outputId": "8c9cd205-d1be-43c8-a5a2-6c9d9479d56c"
   },
   "outputs": [
    {
     "name": "stdout",
     "output_type": "stream",
     "text": [
      "decoder_input_sequences.shape: (20000, 12)\n",
      "decoder_input_sequences[180]: [  2   3   6 326   0   0   0   0   0   0   0   0]\n"
     ]
    }
   ],
   "source": [
    "decoder_input_sequences = pad_sequences(output_input_integer_seq, maxlen=max_out_len, padding='post')\n",
    "print(\"decoder_input_sequences.shape:\", decoder_input_sequences.shape)\n",
    "print(\"decoder_input_sequences[180]:\", decoder_input_sequences[180])"
   ]
  },
  {
   "cell_type": "markdown",
   "metadata": {
    "id": "wF9WNh1fcsdP"
   },
   "source": [
    "The sentence at index 180 of the decoder input is <sos> Joignez-vous à nous. If you print the corresponding integers from the word2idx_outputs dictionary, you should see 2, 2028, 20, and 228 printed on the console."
   ]
  },
  {
   "cell_type": "code",
   "execution_count": 11,
   "metadata": {
    "id": "Ra7H9gBAcaMR",
    "outputId": "36507fd7-8b1d-4c52-b774-ab042f5b784c"
   },
   "outputs": [
    {
     "name": "stdout",
     "output_type": "stream",
     "text": [
      "2\n",
      "2030\n",
      "20\n",
      "223\n"
     ]
    }
   ],
   "source": [
    "print(word2idx_outputs[\"<sos>\"])\n",
    "print(word2idx_outputs[\"joignez-vous\"])\n",
    "print(word2idx_outputs[\"à\"])\n",
    "print(word2idx_outputs[\"nous.\"])"
   ]
  },
  {
   "cell_type": "code",
   "execution_count": 12,
   "metadata": {
    "id": "0DRTlTzWn8OM",
    "outputId": "5429860b-c469-49de-cc54-023430450490"
   },
   "outputs": [
    {
     "name": "stdout",
     "output_type": "stream",
     "text": [
      "decoder_output_sequences.shape: (20000, 12)\n"
     ]
    }
   ],
   "source": [
    "decoder_output_sequences = pad_sequences(output_integer_seq, maxlen=max_out_len, padding='post')\n",
    "print(\"decoder_output_sequences.shape:\", decoder_output_sequences.shape)\n"
   ]
  },
  {
   "cell_type": "markdown",
   "metadata": {
    "id": "B9Sh9cViduI0"
   },
   "source": [
    "# Word Embeddings\n"
   ]
  },
  {
   "cell_type": "markdown",
   "metadata": {
    "id": "C5Cp6ac7eRZ1"
   },
   "source": [
    "We already converted our words into integers. So what's the difference between integer representation and word embeddings?\n",
    "\n",
    "There are two main differences between single integer representation and word embeddings. With integer reprensentation, a word is represented only with a single integer. With vector representation a word is represented by a vector of 50, 100, 200, or whatever dimensions you like. Hence, word embeddings capture a lot more information about words. Secondly, the single-integer representation doesn't capture the relationships between different words. On the contrary, word embeddings retain relationships between the words. You can either use custom word embeddings or you can use pretrained word embeddings."
   ]
  },
  {
   "cell_type": "markdown",
   "metadata": {
    "id": "Oo7j1JWyehMz"
   },
   "source": [
    "For English sentences, i.e. the inputs, we will use the GloVe word embeddings. For the translated French sentences in the output, we will use custom word embeddings."
   ]
  },
  {
   "cell_type": "markdown",
   "metadata": {
    "id": "-RHgs-GRezLC"
   },
   "source": [
    "Let's create word embeddings for the inputs first. To do so, we need to load the GloVe word vectors into memory. We will then create a dictionary where words are the keys and the corresponding vectors are values, "
   ]
  },
  {
   "cell_type": "code",
   "execution_count": 13,
   "metadata": {
    "id": "k-UIFAa7ddt1"
   },
   "outputs": [],
   "source": [
    "from numpy import array\n",
    "from numpy import asarray\n",
    "from numpy import zeros\n",
    "\n",
    "embeddings_dictionary = dict()\n",
    "\n",
    "glove_file = open(r'C:\\Users\\blank\\data science\\Project - Neural Machine Translation/glove.twitter.27B.200d.txt', encoding=\"utf8\")\n",
    "\n",
    "for line in glove_file:\n",
    "    rec = line.split()\n",
    "    word = rec[0]\n",
    "    vector_dimensions = asarray(rec[1:], dtype='float32')\n",
    "    embeddings_dictionary[word] = vector_dimensions\n",
    "glove_file.close()"
   ]
  },
  {
   "cell_type": "markdown",
   "metadata": {
    "id": "IoKYra2-foaR"
   },
   "source": [
    "Recall that we have 2150 unique words in the input. We will create a matrix where the row number will represent the integer value for the word and the columns will correspond to the dimensions of the word. This matrix will contain the word embeddings for the words in our input sentences.\n",
    "\n"
   ]
  },
  {
   "cell_type": "code",
   "execution_count": 14,
   "metadata": {
    "id": "1PpnsuMpfNwZ"
   },
   "outputs": [],
   "source": [
    "num_words = min(MAX_NUM_WORDS, len(word2idx_inputs) + 1)\n",
    "embedding_matrix = zeros((num_words, EMBEDDING_SIZE))\n",
    "for word, index in word2idx_inputs.items():\n",
    "    embedding_vector = embeddings_dictionary.get(word)\n",
    "    if embedding_vector is not None:\n",
    "        embedding_matrix[index] = embedding_vector"
   ]
  },
  {
   "cell_type": "code",
   "execution_count": 15,
   "metadata": {
    "id": "tOuMuJekf0UE",
    "outputId": "65ea04a6-572e-4dae-8c6c-f2007b7ba306"
   },
   "outputs": [
    {
     "name": "stdout",
     "output_type": "stream",
     "text": [
      "[-3.7239e-01  4.7634e-01 -1.9666e-01 -1.1641e+00  1.2820e-02 -4.7063e-01\n",
      "  4.4522e-01  1.8911e-01  5.6740e-01 -6.1915e-02  2.7159e-01 -1.7613e-01\n",
      " -5.4897e-01 -1.6782e-01  3.0910e-01  1.0253e-01  4.3412e-01 -4.0300e-02\n",
      "  3.4782e-02  2.8017e-01  1.6735e-01 -5.3730e-02 -5.9838e-01 -6.7251e-02\n",
      " -7.0371e-01  1.0674e+00  4.1123e-01  2.6227e-01 -3.2041e-01  5.2882e-01\n",
      "  3.6446e-01  1.3661e-01 -2.2680e-01  6.6556e-01  3.4684e-01 -4.1284e-01\n",
      "  5.5050e-01  3.5691e-01  3.6985e-01 -3.1312e-01  9.2343e-02  1.7105e-01\n",
      " -1.5200e-01  6.4297e-02  2.2327e-01  2.9222e-01 -7.3356e-01 -4.6585e-02\n",
      " -2.1011e-01  1.2690e-01  3.1638e-01 -5.1846e-01  2.2601e-02 -1.6426e-01\n",
      " -8.4231e-02 -6.5978e-02 -1.4436e-01 -2.2150e-01  4.2886e-01  3.0813e-01\n",
      " -1.0191e-03  5.9619e-01  1.7514e-01  5.3788e-01 -6.3198e-01  1.5236e-01\n",
      " -1.9268e-01  5.8482e-03  6.8425e-01  5.9576e-01  4.4315e-01  3.5061e-01\n",
      "  1.8628e-01  8.6317e-01  2.1811e-01 -2.6925e-02  1.4113e-01 -6.5218e-03\n",
      " -1.8793e-01 -7.6275e-01 -1.9529e-01 -3.8076e-01  2.4531e-01 -9.6168e-02\n",
      "  9.9905e-01 -4.4919e-01  2.7007e-01 -8.1641e-02  2.0172e-01 -3.0940e-01\n",
      "  2.1268e-01 -3.3724e-01 -4.4451e-02  3.7221e-02  3.9271e-01 -4.4238e-01\n",
      " -3.6380e-02  2.6630e-01 -1.9518e-01  4.9542e-01  4.6434e-01  2.8676e-02\n",
      " -3.2328e-01 -2.2912e-01 -1.0846e-01  7.4751e-02  1.9630e-01  9.2830e-01\n",
      "  3.4753e-01 -2.2845e-01 -5.7626e-02 -1.9475e-01 -1.5422e-01  2.5627e-01\n",
      "  1.0862e+00 -2.4259e-01  2.6479e-01  2.0851e-01  5.9924e-01 -2.0119e-01\n",
      "  2.8459e-01  2.2108e-01  8.1928e-02  6.4911e-02  4.5134e-01 -9.2248e-01\n",
      " -6.3541e-01 -8.6245e-02 -5.4689e-01  2.1964e-01  3.0496e-01 -2.5695e-01\n",
      "  2.2484e-01 -3.0984e-01  1.2758e-01  1.0109e-01 -3.2874e-01  1.2935e-01\n",
      " -8.7196e-01  1.2193e-03  1.2921e-01 -1.2158e+00 -9.7884e-01  3.1955e-01\n",
      "  7.0111e-01 -4.4321e-02  1.3345e-01  4.0505e-01 -1.5676e-01 -9.4797e-02\n",
      " -4.9323e-01  4.7612e-02 -4.1518e+00 -4.0886e-01 -3.0467e-01  1.4018e-01\n",
      " -1.0525e-01 -5.1683e-01 -2.0616e-01  9.2721e-01 -7.0207e-01 -2.1796e-01\n",
      "  2.2035e-02  8.5640e-02 -2.3397e-01 -8.8407e-02  1.9469e-02  2.5186e-03\n",
      "  1.2422e-01 -1.3315e-01 -7.0345e-01 -4.5398e-01  2.0099e-01  2.6786e-01\n",
      "  2.6263e-01 -1.5726e-01  3.2610e-01 -1.0904e-01  3.9328e-01  1.2629e-01\n",
      " -3.7834e-02 -3.8130e-01 -2.3811e-02  1.1780e-01  8.3620e-02 -1.7298e-01\n",
      "  1.8870e-01 -7.4950e-02  1.2175e-02  1.7848e-01  7.5212e-02  1.6401e-01\n",
      " -3.5318e-01 -1.0642e-02 -4.9625e-01  3.8459e-02  3.9650e-01 -8.5031e-02\n",
      "  6.6139e-01  3.9729e-02]\n"
     ]
    }
   ],
   "source": [
    "print(embeddings_dictionary[\"join\"])"
   ]
  },
  {
   "cell_type": "markdown",
   "metadata": {
    "id": "LgoHeGrkghcL"
   },
   "source": [
    "In the previous section, we saw that the integer representation for the word **join** is 464. Let's now check the 464th index of the word embedding matrix.\n",
    "\n"
   ]
  },
  {
   "cell_type": "code",
   "execution_count": 16,
   "metadata": {
    "id": "iaWaL8EegHgF",
    "outputId": "44963034-0987-4ac8-f83a-bef767306e24"
   },
   "outputs": [
    {
     "name": "stdout",
     "output_type": "stream",
     "text": [
      "[-1.57100007e-01 -6.98379993e-01  5.76990008e-01  1.64030001e-01\n",
      " -9.20929983e-02 -2.31739998e-01  6.89859986e-01 -5.43109998e-02\n",
      "  7.40849972e-02 -3.78729999e-01 -1.90500006e-01  4.11560014e-02\n",
      " -8.24719965e-02  2.66500004e-03 -4.88980003e-02 -2.16079995e-01\n",
      " -3.75930011e-01 -8.21499974e-02 -1.63990006e-01 -1.74640003e-03\n",
      "  7.45460019e-02  9.45509970e-03  1.99970007e-01  3.87860000e-01\n",
      "  4.93310004e-01 -6.46770000e-02 -1.48120001e-01 -2.37739995e-01\n",
      " -4.40369993e-02  2.47520000e-01  1.63619995e-01 -1.02459997e-01\n",
      " -3.90920006e-02  6.41160011e-01 -2.39040002e-01 -1.62609994e-01\n",
      " -4.67680007e-01 -6.61680028e-02  1.99230000e-01  6.22309983e-01\n",
      "  1.04429998e-01 -3.12189996e-01 -6.37109995e-01 -2.36019999e-01\n",
      "  1.64949998e-01 -1.28639996e-01  7.54880011e-01 -1.01099998e-01\n",
      " -1.11210003e-01 -2.58140005e-02  5.24789989e-01  1.94159999e-01\n",
      " -3.71760011e-01 -3.21869999e-01  4.53579992e-01 -3.38239998e-01\n",
      "  7.09339976e-01  1.76129997e-01  3.62409987e-02  3.34540009e-01\n",
      "  2.75869995e-01 -4.73540008e-01  1.10509999e-01  4.65609998e-01\n",
      " -1.29140005e-01 -2.25610003e-01  1.43840000e-01  1.69640000e-03\n",
      " -2.73750007e-01  1.32149994e-01 -8.01030025e-02  3.41229998e-02\n",
      " -7.39750028e-01 -8.69390011e-01  5.70580006e-01 -5.76059997e-01\n",
      " -3.19539994e-01  6.01679981e-01 -1.37920007e-01  2.89249986e-01\n",
      "  1.32229999e-01 -2.34329998e-02  2.34399997e-02  1.68139994e-01\n",
      " -1.50910001e-02 -3.85679990e-01 -3.29609990e-01  7.56760001e-01\n",
      " -4.26869988e-01 -1.57670006e-01 -3.68239999e-01  6.06850028e-01\n",
      " -6.29710019e-01 -1.90839991e-02  2.47229993e-01 -7.32619986e-02\n",
      "  4.24210012e-01 -4.31679994e-01 -6.21439993e-01  8.03399980e-02\n",
      " -9.19219971e-01  5.07839978e-01 -9.66309980e-02 -8.39230001e-01\n",
      "  2.85879999e-01  3.94580007e-01  3.53859998e-02  1.11409999e-01\n",
      " -1.19230002e-01 -1.36350006e-01 -2.86909997e-01 -1.52970001e-01\n",
      "  6.67689979e-01  1.41790003e-01 -4.03380007e-01 -5.00460029e-01\n",
      "  5.67189991e-01 -7.03400001e-02 -9.35510024e-02  3.98820013e-01\n",
      " -4.98930007e-01  2.19679996e-01  1.49289995e-01  2.91049987e-01\n",
      "  5.28689981e-01  7.60479987e-01 -4.13580000e-01 -4.36910003e-01\n",
      " -1.64240003e-01  2.19679996e-01  3.80230010e-01 -4.14099991e-01\n",
      " -5.11590004e-01 -3.12910005e-02  3.00520003e-01  5.78299999e-01\n",
      "  3.73459995e-01 -2.79819995e-01  6.45459965e-02  2.09840000e-01\n",
      "  2.13090003e-01  5.41529991e-02 -2.33899996e-01  2.54599992e-02\n",
      " -5.36960006e-01  1.09240003e-01 -7.99340010e-02  5.65550029e-01\n",
      "  5.02340019e-01  3.75039995e-01  1.03369999e+00  4.51790005e-01\n",
      " -4.17920017e+00 -3.72040004e-01 -8.87679979e-02  5.41710019e-01\n",
      " -6.75409973e-01  2.73649991e-01 -3.79649997e-01 -2.13530004e-01\n",
      "  9.65730011e-01 -6.12730026e-01 -9.13290009e-02 -3.77099991e-01\n",
      " -3.70850004e-02 -2.71660000e-01  6.37250006e-01  1.30070001e-01\n",
      "  6.51680008e-02 -3.51260006e-01 -9.88169983e-02 -1.24370001e-01\n",
      " -8.52050036e-02  3.21209989e-02  4.64859977e-03  1.42539993e-01\n",
      " -1.03749998e-01 -4.22729999e-01  1.23669997e-01  1.03739999e-01\n",
      " -5.03350019e-01 -8.00830033e-03 -2.66600013e-01  3.94849986e-01\n",
      " -3.29959989e-01 -7.53509998e-01  3.08409989e-01  2.48579994e-01\n",
      "  6.24660015e-01  2.18860004e-02  2.89890002e-02  5.90200007e-01\n",
      " -7.68450022e-01  8.32460001e-02  1.20119996e-01  3.65700006e-01\n",
      " -2.11840004e-01 -5.02919972e-01  4.18610014e-02 -1.76359996e-01]\n"
     ]
    }
   ],
   "source": [
    "print(embedding_matrix[464])"
   ]
  },
  {
   "cell_type": "markdown",
   "metadata": {
    "id": "AXgArIbzgqXA"
   },
   "source": [
    "You can see that the values for the 464th row in the embedding matrix are similar to the vector representation of the word **join** in the GloVe dictionary, which confirms that rows in the embedding matrix represent corresponding word embeddings from the GloVe word embedding dictionary. This word embedding matrix will be used to create the embedding layer for our LSTM model."
   ]
  },
  {
   "cell_type": "markdown",
   "metadata": {
    "id": "E4zJ1qkSgwPb"
   },
   "source": [
    "**Creates the embedding layer for the input:**"
   ]
  },
  {
   "cell_type": "code",
   "execution_count": 17,
   "metadata": {
    "id": "Mq9hCDQwgTtv"
   },
   "outputs": [],
   "source": [
    "embedding_layer = Embedding(num_words, EMBEDDING_SIZE, weights=[embedding_matrix], input_length=max_input_len)"
   ]
  },
  {
   "cell_type": "markdown",
   "metadata": {
    "id": "Zjnm7SOpiZyj"
   },
   "source": [
    "# Creating the Model\n",
    "\n"
   ]
  },
  {
   "cell_type": "markdown",
   "metadata": {
    "id": "v7r0kn0si7kY"
   },
   "source": [
    "The first thing we need to do is to define our outputs, as we know that the output will be a sequence of words. Recall that the total number of unique words in the output are 9511. Therefore, each word in the output can be any of the 9511 words. The length of an output sentence is 12. And for each input sentence, we need a corresponding output sentence. Therefore, the final shape of the output will be:"
   ]
  },
  {
   "cell_type": "code",
   "execution_count": 18,
   "metadata": {
    "id": "l86ScpjAg3NL"
   },
   "outputs": [],
   "source": [
    "#(number of inputs, length of the output sentence, the number of words in the output)"
   ]
  },
  {
   "cell_type": "code",
   "execution_count": 19,
   "metadata": {
    "id": "kGbPaXOdjhwr",
    "outputId": "60557654-8037-4e29-8c2b-4200debf4a67"
   },
   "outputs": [
    {
     "data": {
      "text/plain": [
       "(20000, 12, 9547)"
      ]
     },
     "execution_count": 19,
     "metadata": {},
     "output_type": "execute_result"
    }
   ],
   "source": [
    "decoder_targets_one_hot = np.zeros((\n",
    "        len(input_sentences),\n",
    "        max_out_len,\n",
    "        num_words_output\n",
    "    ),\n",
    "    dtype='float32'\n",
    ")\n",
    "decoder_targets_one_hot.shape"
   ]
  },
  {
   "cell_type": "markdown",
   "metadata": {
    "id": "ZtMLgewjm-Yu"
   },
   "source": [
    "To make predictions, the final layer of the model will be a dense layer, therefore we need the outputs in the form of one-hot encoded vectors, since we will be using softmax activation function at the dense layer. To create such one-hot encoded output, the next step is to assign 1 to the column number that corresponds to the integer representation of the word. "
   ]
  },
  {
   "cell_type": "code",
   "execution_count": 20,
   "metadata": {
    "id": "KTo25u64joMw"
   },
   "outputs": [],
   "source": [
    "for i, d in enumerate(decoder_output_sequences):\n",
    "    for t, word in enumerate(d):\n",
    "        decoder_targets_one_hot[i, t, word] = 1"
   ]
  },
  {
   "cell_type": "markdown",
   "metadata": {
    "id": "Pb80AaowoHg9"
   },
   "source": [
    "Next, we need to create the encoder and decoders. The input to the encoder will be the sentence in English and the output will be the hidden state and cell state of the LSTM."
   ]
  },
  {
   "cell_type": "code",
   "execution_count": 21,
   "metadata": {
    "id": "7lRHdbM-nCfd"
   },
   "outputs": [],
   "source": [
    "encoder_inputs = Input(shape=(max_input_len,))\n",
    "x = embedding_layer(encoder_inputs)\n",
    "encoder = LSTM(LSTM_NODES, return_state=True)\n",
    "\n",
    "encoder_outputs, h, c = encoder(x)\n",
    "encoder_states = [h, c]"
   ]
  },
  {
   "cell_type": "markdown",
   "metadata": {
    "id": "N86Lh0vgoQCH"
   },
   "source": [
    "The next step is to define the decoder. The decoder will have two inputs: the hidden state and cell state from the encoder and the input sentence, which actually will be the output sentence with an <sos> token appended at the beginning."
   ]
  },
  {
   "cell_type": "code",
   "execution_count": 22,
   "metadata": {
    "id": "xP6ra2fWoLL3"
   },
   "outputs": [],
   "source": [
    "decoder_inputs = Input(shape=(max_out_len,))\n",
    "\n",
    "decoder_embedding = Embedding(num_words_output, LSTM_NODES)\n",
    "decoder_inputs_x = decoder_embedding(decoder_inputs)\n",
    "\n",
    "decoder_lstm = LSTM(LSTM_NODES, return_sequences=True, return_state=True)\n",
    "decoder_outputs, _, _ = decoder_lstm(decoder_inputs_x, initial_state=encoder_states)"
   ]
  },
  {
   "cell_type": "markdown",
   "metadata": {
    "id": "Y2SY3VJToh8i"
   },
   "source": [
    "Finally, the output from the decoder LSTM is passed through a dense layer to predict decoder outputs."
   ]
  },
  {
   "cell_type": "code",
   "execution_count": 23,
   "metadata": {
    "id": "SxAS83WqoTM8"
   },
   "outputs": [],
   "source": [
    "decoder_dense = Dense(num_words_output, activation='softmax')\n",
    "decoder_outputs = decoder_dense(decoder_outputs)"
   ]
  },
  {
   "cell_type": "code",
   "execution_count": 24,
   "metadata": {
    "id": "KvTYVm5-ombi",
    "outputId": "630265cf-4a38-41ce-f829-0007968a030d"
   },
   "outputs": [
    {
     "name": "stdout",
     "output_type": "stream",
     "text": [
      "Model: \"model\"\n",
      "__________________________________________________________________________________________________\n",
      "Layer (type)                    Output Shape         Param #     Connected to                     \n",
      "==================================================================================================\n",
      "input_1 (InputLayer)            [(None, 6)]          0                                            \n",
      "__________________________________________________________________________________________________\n",
      "input_2 (InputLayer)            [(None, 12)]         0                                            \n",
      "__________________________________________________________________________________________________\n",
      "embedding (Embedding)           (None, 6, 200)       703800      input_1[0][0]                    \n",
      "__________________________________________________________________________________________________\n",
      "embedding_1 (Embedding)         (None, 12, 256)      2444032     input_2[0][0]                    \n",
      "__________________________________________________________________________________________________\n",
      "lstm (LSTM)                     [(None, 256), (None, 467968      embedding[0][0]                  \n",
      "__________________________________________________________________________________________________\n",
      "lstm_1 (LSTM)                   [(None, 12, 256), (N 525312      embedding_1[0][0]                \n",
      "                                                                 lstm[0][1]                       \n",
      "                                                                 lstm[0][2]                       \n",
      "__________________________________________________________________________________________________\n",
      "dense (Dense)                   (None, 12, 9547)     2453579     lstm_1[0][0]                     \n",
      "==================================================================================================\n",
      "Total params: 6,594,691\n",
      "Trainable params: 6,594,691\n",
      "Non-trainable params: 0\n",
      "__________________________________________________________________________________________________\n"
     ]
    }
   ],
   "source": [
    "#Compile\n",
    "model = Model([encoder_inputs,decoder_inputs], decoder_outputs)\n",
    "model.compile(\n",
    "    optimizer='rmsprop',\n",
    "    loss='categorical_crossentropy',\n",
    "    metrics=['accuracy']\n",
    ")\n",
    "model.summary()"
   ]
  },
  {
   "cell_type": "markdown",
   "metadata": {
    "id": "VD1Se2XKoxwq"
   },
   "source": [
    "Let's plot our model to see how it looks."
   ]
  },
  {
   "cell_type": "code",
   "execution_count": 25,
   "metadata": {
    "id": "_v6W3oDkovGi",
    "outputId": "5d89c1a7-b2eb-4643-8d5d-1fbe11bd4488"
   },
   "outputs": [
    {
     "data": {
      "image/png": "[encoded data removed]",
      "text/plain": [
       "<IPython.core.display.Image object>"
      ]
     },
     "execution_count": 25,
     "metadata": {},
     "output_type": "execute_result"
    }
   ],
   "source": [
    "from tensorflow.keras.utils import plot_model\n",
    "plot_model(model, to_file='model_plot4a.png', show_shapes=True, show_layer_names=True)"
   ]
  },
  {
   "cell_type": "markdown",
   "metadata": {
    "id": "NUVA948AqBoc"
   },
   "source": [
    "From the output, you can see that we have two types of input. input_1 is the input placeholder for the encoder, which is embedded and passed through lstm_1 layer, which basically is the encoder LSTM. There are three outputs from the lstm_1 layer: the output, the hidden layer and the cell state. However, only the cell state and the hidden state are passed to the decoder.\n",
    "\n",
    "Here the lstm_2 layer is the decoder LSTM. The input_2 contains the output sentences with <sos> token appended at the start. The input_2 is also passed through an embedding layer and is used as input to the decoder LSTM, lstm_2. Finally, the output from the decoder LSTM is passed through the dense layer to make predictions."
   ]
  },
  {
   "cell_type": "code",
   "execution_count": 26,
   "metadata": {
    "id": "vZzdglYorCE9"
   },
   "outputs": [],
   "source": [
    "from tensorflow.keras.callbacks import EarlyStopping\n",
    "es = EarlyStopping(monitor='val_loss', mode='min', verbose=1)"
   ]
  },
  {
   "cell_type": "code",
   "execution_count": 43,
   "metadata": {
    "id": "a8U38-qbo3P9",
    "outputId": "c3ad54ca-4c3a-48a6-b85c-865d1955e927"
   },
   "outputs": [
    {
     "name": "stdout",
     "output_type": "stream",
     "text": [
      "Epoch 1/20\n",
      "282/282 [==============================] - 73s 251ms/step - loss: 1.5311 - val_loss: 1.9267\n",
      "Epoch 2/20\n",
      "282/282 [==============================] - 67s 237ms/step - loss: 1.3087 - val_loss: 1.7900\n",
      "Epoch 3/20\n",
      "282/282 [==============================] - 65s 232ms/step - loss: 1.1767 - val_loss: 1.7009\n",
      "Epoch 4/20\n",
      "282/282 [==============================] - 73s 259ms/step - loss: 1.0807 - val_loss: 1.6484\n",
      "Epoch 5/20\n",
      "282/282 [==============================] - 65s 230ms/step - loss: 1.0019 - val_loss: 1.6221\n",
      "Epoch 6/20\n",
      "282/282 [==============================] - 65s 231ms/step - loss: 0.9371 - val_loss: 1.6144\n",
      "Epoch 7/20\n",
      "282/282 [==============================] - 65s 231ms/step - loss: 0.8811 - val_loss: 1.6010\n",
      "Epoch 8/20\n",
      "282/282 [==============================] - 67s 237ms/step - loss: 0.8322 - val_loss: 1.5900\n",
      "Epoch 9/20\n",
      "282/282 [==============================] - 66s 233ms/step - loss: 0.7913 - val_loss: 1.5978\n",
      "Epoch 10/20\n",
      "282/282 [==============================] - 65s 230ms/step - loss: 0.7592 - val_loss: 1.5939\n",
      "Epoch 11/20\n",
      "282/282 [==============================] - 67s 236ms/step - loss: 0.7298 - val_loss: 1.6015\n",
      "Epoch 12/20\n",
      "282/282 [==============================] - 66s 233ms/step - loss: 0.7015 - val_loss: 1.6065\n",
      "Epoch 13/20\n",
      "282/282 [==============================] - 65s 232ms/step - loss: 0.6808 - val_loss: 1.6367\n",
      "Epoch 14/20\n",
      "282/282 [==============================] - 64s 229ms/step - loss: 0.6641 - val_loss: 1.6332\n",
      "Epoch 15/20\n",
      "282/282 [==============================] - 65s 231ms/step - loss: 0.6454 - val_loss: 1.6710\n",
      "Epoch 16/20\n",
      "282/282 [==============================] - 66s 233ms/step - loss: 0.6298 - val_loss: 1.6640\n",
      "Epoch 17/20\n",
      "282/282 [==============================] - 66s 235ms/step - loss: 0.6194 - val_loss: 1.6803\n",
      "Epoch 18/20\n",
      "282/282 [==============================] - 66s 234ms/step - loss: 0.6081 - val_loss: 1.6683\n",
      "Epoch 19/20\n",
      "282/282 [==============================] - 65s 232ms/step - loss: 0.5995 - val_loss: 1.6849\n",
      "Epoch 20/20\n",
      "282/282 [==============================] - 67s 237ms/step - loss: 0.5897 - val_loss: 1.6951\n"
     ]
    }
   ],
   "source": [
    "history = model.fit([encoder_input_sequences, decoder_input_sequences], decoder_targets_one_hot,\n",
    "    batch_size=BATCH_SIZE,\n",
    "    epochs=20,\n",
    "    #callbacks=[es],\n",
    "    validation_split=0.1,\n",
    ")"
   ]
  },
  {
   "cell_type": "code",
   "execution_count": 44,
   "metadata": {
    "id": "Qx1MYN2nxzEd"
   },
   "outputs": [],
   "source": [
    "model.save('seq2seq_eng-fra.h5')"
   ]
  },
  {
   "cell_type": "code",
   "execution_count": 45,
   "metadata": {
    "id": "4VJuggcCqthT",
    "outputId": "ae847efe-6103-46d4-d1b2-7127ff5b6cfe"
   },
   "outputs": [
    {
     "data": {
      "image/png": "[encoded data removed]",
      "text/plain": [
       "<Figure size 432x288 with 1 Axes>"
      ]
     },
     "metadata": {
      "needs_background": "light"
     },
     "output_type": "display_data"
    }
   ],
   "source": [
    "import matplotlib.pyplot as plt\n",
    "# %matplotlib inline\n",
    "plt.title('Model Loss')\n",
    "plt.plot(history.history['loss'])\n",
    "plt.plot(history.history['val_loss'])\n",
    "plt.ylabel('loss')\n",
    "plt.xlabel('epoch')\n",
    "plt.legend(['train', 'test'], loc='upper left')\n",
    "plt.show()"
   ]
  },
  {
   "cell_type": "code",
   "execution_count": 46,
   "metadata": {
    "id": "xOMYDe0JyitN"
   },
   "outputs": [],
   "source": [
    "encoder_model = Model(encoder_inputs, encoder_states)\n",
    "model.compile(optimizer='rmsprop', loss='categorical_crossentropy')\n",
    "model.load_weights('seq2seq_eng-fra.h5')"
   ]
  },
  {
   "cell_type": "code",
   "execution_count": 47,
   "metadata": {
    "id": "kIFayPLDwfTl"
   },
   "outputs": [],
   "source": [
    "decoder_state_input_h = Input(shape=(LSTM_NODES,))\n",
    "decoder_state_input_c = Input(shape=(LSTM_NODES,))\n",
    "decoder_states_inputs = [decoder_state_input_h, decoder_state_input_c]\n",
    "\n",
    "decoder_inputs_single = Input(shape=(1,))\n",
    "decoder_inputs_single_x = decoder_embedding(decoder_inputs_single)"
   ]
  },
  {
   "cell_type": "code",
   "execution_count": 48,
   "metadata": {
    "id": "MgCeNWUOwpjW"
   },
   "outputs": [],
   "source": [
    "decoder_outputs, h, c = decoder_lstm(decoder_inputs_single_x, initial_state=decoder_states_inputs)\n"
   ]
  },
  {
   "cell_type": "code",
   "execution_count": 49,
   "metadata": {
    "id": "3_5YdURtwqMf"
   },
   "outputs": [],
   "source": [
    "decoder_states = [h, c]\n",
    "decoder_outputs = decoder_dense(decoder_outputs)"
   ]
  },
  {
   "cell_type": "code",
   "execution_count": 50,
   "metadata": {
    "id": "-ZhPgdzkwxNL"
   },
   "outputs": [],
   "source": [
    "decoder_model = Model(\n",
    "    [decoder_inputs_single] + decoder_states_inputs,\n",
    "    [decoder_outputs] + decoder_states\n",
    ")"
   ]
  },
  {
   "cell_type": "code",
   "execution_count": 51,
   "metadata": {
    "id": "sKUBy8F-wxwM"
   },
   "outputs": [
    {
     "data": {
      "image/png": "[encoded data removed]",
      "text/plain": [
       "<IPython.core.display.Image object>"
      ]
     },
     "execution_count": 51,
     "metadata": {},
     "output_type": "execute_result"
    }
   ],
   "source": [
    "from tensorflow.keras.utils import plot_model\n",
    "plot_model(decoder_model, to_file='model_plot_dec.png', show_shapes=True, show_layer_names=True)"
   ]
  },
  {
   "cell_type": "markdown",
   "metadata": {
    "id": "yLK0AsmV9Isl"
   },
   "source": [
    "# Making Predictions\n"
   ]
  },
  {
   "cell_type": "markdown",
   "metadata": {
    "id": "WjdGe0_DAfj-"
   },
   "source": [
    "we want our output to be a sequence of words in the French language. To do so, we need to convert the integers back to words. We will create new dictionaries for both inputs and outputs where the keys will be the integers and the corresponding values will be the words."
   ]
  },
  {
   "cell_type": "code",
   "execution_count": 52,
   "metadata": {
    "id": "1jBqwVmqw0N9"
   },
   "outputs": [],
   "source": [
    "idx2word_input = {v:k for k, v in word2idx_inputs.items()}\n",
    "idx2word_target = {v:k for k, v in word2idx_outputs.items()}"
   ]
  },
  {
   "cell_type": "markdown",
   "metadata": {
    "id": "dn3v4cS_AjqZ"
   },
   "source": [
    "The method will accept an input-padded sequence English sentence (in the integer form) and will return the translated French sentence. "
   ]
  },
  {
   "cell_type": "code",
   "execution_count": 53,
   "metadata": {
    "id": "o9Wp-kQKw3Pg"
   },
   "outputs": [],
   "source": [
    "def translate_sentence(input_seq):\n",
    "    states_value = encoder_model.predict(input_seq)\n",
    "    target_seq = np.zeros((1, 1))\n",
    "    target_seq[0, 0] = word2idx_outputs['<sos>']\n",
    "    eos = word2idx_outputs['<eos>']\n",
    "    output_sentence = []\n",
    "\n",
    "    for _ in range(max_out_len):\n",
    "        output_tokens, h, c = decoder_model.predict([target_seq] + states_value)\n",
    "        idx = np.argmax(output_tokens[0, 0, :])\n",
    "\n",
    "        if eos == idx:\n",
    "            break\n",
    "\n",
    "        word = ''\n",
    "\n",
    "        if idx > 0:\n",
    "            word = idx2word_target[idx]\n",
    "            output_sentence.append(word)\n",
    "\n",
    "        target_seq[0, 0] = idx\n",
    "        states_value = [h, c]\n",
    "\n",
    "    return ' '.join(output_sentence)"
   ]
  },
  {
   "cell_type": "markdown",
   "metadata": {},
   "source": [
    "# Sample Predictions"
   ]
  },
  {
   "cell_type": "code",
   "execution_count": 54,
   "metadata": {
    "id": "5gIbCMeVxcn5",
    "outputId": "a88345a4-490d-45c4-a9fc-5b86b694367b"
   },
   "outputs": [
    {
     "name": "stdout",
     "output_type": "stream",
     "text": [
      "Input Language :  She is merciful.\n",
      "Actual translation :  Elle est miséricordieuse. <eos>\n",
      "French translation :  elle est comment très ?\n"
     ]
    }
   ],
   "source": [
    "i = np.random.choice(len(input_sentences))\n",
    "input_seq = encoder_input_sequences[i:i+1]\n",
    "translation = translate_sentence(input_seq)\n",
    "print('Input Language : ', input_sentences[i])\n",
    "print('Actual translation : ', output_sentences[i])\n",
    "print('French translation : ', translation)"
   ]
  },
  {
   "cell_type": "code",
   "execution_count": 55,
   "metadata": {},
   "outputs": [
    {
     "name": "stdout",
     "output_type": "stream",
     "text": [
      "Input Language :  Is Tom there?\n",
      "Actual translation :  Est-ce que Tom est ici ? <eos>\n",
      "French translation :  est-ce que tom est ici ?\n"
     ]
    }
   ],
   "source": [
    "i = np.random.choice(len(input_sentences))\n",
    "input_seq = encoder_input_sequences[i:i+1]\n",
    "translation = translate_sentence(input_seq)\n",
    "print('Input Language : ', input_sentences[i])\n",
    "print('Actual translation : ', output_sentences[i])\n",
    "print('French translation : ', translation)"
   ]
  },
  {
   "cell_type": "code",
   "execution_count": 56,
   "metadata": {},
   "outputs": [
    {
     "name": "stdout",
     "output_type": "stream",
     "text": [
      "Input Language :  Are we prepared?\n",
      "Actual translation :  Y sommes-nous prêtes ? <eos>\n",
      "French translation :  sommes-nous prêts ?\n"
     ]
    }
   ],
   "source": [
    "i = np.random.choice(len(input_sentences))\n",
    "input_seq = encoder_input_sequences[i:i+1]\n",
    "translation = translate_sentence(input_seq)\n",
    "print('Input Language : ', input_sentences[i])\n",
    "print('Actual translation : ', output_sentences[i])\n",
    "print('French translation : ', translation)"
   ]
  },
  {
   "cell_type": "code",
   "execution_count": 57,
   "metadata": {},
   "outputs": [
    {
     "name": "stdout",
     "output_type": "stream",
     "text": [
      "Input Language :  This is pretty.\n",
      "Actual translation :  C'est joli. <eos>\n",
      "French translation :  c'est assez !\n"
     ]
    }
   ],
   "source": [
    "i = np.random.choice(len(input_sentences))\n",
    "input_seq = encoder_input_sequences[i:i+1]\n",
    "translation = translate_sentence(input_seq)\n",
    "print('Input Language : ', input_sentences[i])\n",
    "print('Actual translation : ', output_sentences[i])\n",
    "print('French translation : ', translation)"
   ]
  },
  {
   "cell_type": "code",
   "execution_count": 58,
   "metadata": {},
   "outputs": [
    {
     "name": "stdout",
     "output_type": "stream",
     "text": [
      "Input Language :  That's dangerous.\n",
      "Actual translation :  C'est dangereux. <eos>\n",
      "French translation :  c'est es !\n"
     ]
    }
   ],
   "source": [
    "i = np.random.choice(len(input_sentences))\n",
    "input_seq = encoder_input_sequences[i:i+1]\n",
    "translation = translate_sentence(input_seq)\n",
    "print('Input Language : ', input_sentences[i])\n",
    "print('Actual translation : ', output_sentences[i])\n",
    "print('French translation : ', translation)"
   ]
  },
  {
   "cell_type": "code",
   "execution_count": null,
   "metadata": {},
   "outputs": [],
   "source": []
  },
  {
   "cell_type": "code",
   "execution_count": null,
   "metadata": {},
   "outputs": [],
   "source": []
  }
 ],
 "metadata": {
  "kernelspec": {
   "display_name": "Python 3",
   "language": "python",
   "name": "python3"
  },
  "language_info": {
   "codemirror_mode": {
    "name": "ipython",
    "version": 3
   },
   "file_extension": ".py",
   "mimetype": "text/x-python",
   "name": "python",
   "nbconvert_exporter": "python",
   "pygments_lexer": "ipython3",
   "version": "3.8.5"
  }
 },
 "nbformat": 4,
 "nbformat_minor": 4
}
